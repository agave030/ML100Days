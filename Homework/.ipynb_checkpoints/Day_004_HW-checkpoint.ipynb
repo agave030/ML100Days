{
 "cells": [
  {
   "cell_type": "markdown",
   "metadata": {},
   "source": [
    "## 練習時間\n",
    "資料的操作有很多，接下來的馬拉松中我們會介紹常被使用到的操作，參加者不妨先自行想像一下，第一次看到資料，我們一般會想知道什麼訊息？\n",
    "\n",
    "#### Ex: 如何知道資料的 row 數以及 column 數、有什麼欄位、多少欄位、如何截取部分的資料等等\n",
    "\n",
    "有了對資料的好奇之後，我們又怎麼通過程式碼來達成我們的目的呢？\n",
    "\n",
    "#### 可參考該[基礎教材](https://bookdata.readthedocs.io/en/latest/base/01_pandas.html#DataFrame-%E5%85%A5%E9%97%A8)或自行 google"
   ]
  },
  {
   "cell_type": "markdown",
   "metadata": {},
   "source": [
    "# [作業目標]\n",
    "- 熟悉更多的 Python 資料操作"
   ]
  },
  {
   "cell_type": "markdown",
   "metadata": {},
   "source": [
    "# [作業重點]\n",
    "- 列出資料的大小 (In[4], Hint : shape)\n",
    "- 列出所有欄位 (In[5], 有多種寫法)\n",
    "- 擷取部分資料 (In[6], Hint : loc 或 iloc)"
   ]
  },
  {
   "cell_type": "markdown",
   "metadata": {},
   "source": [
    "## Pandas 介紹\n",
    "- Pandas 基於兩種數據類型，series 和dataframe。\n",
    "- series是一種一維的數據類型，其中的每個元素都有各自的標籤。你可以把它當作一個由帶標籤的元素組成的numpy數組。標籤可以是數字或者字符。\n",
    "\n",
    "- dataframe 是一個二維的、表格型的數據結構。Pandas 的dataframe 可以儲存許多不同類型的數據，並且每個軸都有標籤。你可以把它當作一個 series 的字典。"
   ]
  },
  {
   "cell_type": "markdown",
   "metadata": {},
   "source": [
    "## 甚麼是 dataframe\n",
    "- data frame 是一種將 **數據存儲在表格中的方法**\n",
    "- Pandas DataFrame 由三個主要組件組成：數據、索引和列。\n",
    "- DataFrame 可以包含數據有\n",
    "    1. Pandas 的DataFrame\n",
    "    2. Pandas 的Series：保存帶有索引的任何數據類型的一維標記數組。\n",
    "    3. NumPy 的ndarray\n",
    "    4. 二維ndarray\n",
    "    5. 一維ndarray、列表、字典或 Series\n",
    "        - 注意 np.ndarray和np.array()之間的區別，前者是實際數據類型，而後者是從其他數據結構生成數組的函數。"
   ]
  },
  {
   "cell_type": "code",
   "execution_count": 1,
   "metadata": {},
   "outputs": [],
   "source": [
    "import os\n",
    "import numpy as np\n",
    "import pandas as pd"
   ]
  },
  {
   "cell_type": "code",
   "execution_count": 2,
   "metadata": {},
   "outputs": [],
   "source": [
    "# 設定 data_path\n",
    "dir_data = './data/'"
   ]
  },
  {
   "cell_type": "code",
   "execution_count": 3,
   "metadata": {},
   "outputs": [
    {
     "name": "stdout",
     "output_type": "stream",
     "text": [
      "Path of read in data: ./data/application_train.csv\n"
     ]
    }
   ],
   "source": [
    "f_app = os.path.join(dir_data, 'application_train.csv')\n",
    "print('Path of read in data: %s' % (f_app))\n",
    "app_train = pd.read_csv(f_app)"
   ]
  },
  {
   "cell_type": "markdown",
   "metadata": {},
   "source": [
    "### 如果沒有想法，可以先嘗試找出剛剛例子中提到的問題的答案\n",
    "#### 資料的 row 數以及 column 數"
   ]
  },
  {
   "cell_type": "code",
   "execution_count": 18,
   "metadata": {},
   "outputs": [
    {
     "name": "stdout",
     "output_type": "stream",
     "text": [
      "<class 'pandas.core.frame.DataFrame'>\n",
      "RangeIndex: 307511 entries, 0 to 307510\n",
      "Columns: 122 entries, SK_ID_CURR to AMT_REQ_CREDIT_BUREAU_YEAR\n",
      "dtypes: float64(65), int64(41), object(16)\n",
      "memory usage: 286.2+ MB\n"
     ]
    },
    {
     "data": {
      "text/plain": [
       "307511"
      ]
     },
     "execution_count": 18,
     "metadata": {},
     "output_type": "execute_result"
    }
   ],
   "source": [
    "app_train.info()   \n",
    "len(app_train)"
   ]
  },
  {
   "cell_type": "markdown",
   "metadata": {},
   "source": [
    "#### 列出所有欄位"
   ]
  },
  {
   "cell_type": "code",
   "execution_count": 16,
   "metadata": {},
   "outputs": [
    {
     "data": {
      "text/plain": [
       "Index(['SK_ID_CURR', 'TARGET', 'NAME_CONTRACT_TYPE', 'CODE_GENDER',\n",
       "       'FLAG_OWN_CAR', 'FLAG_OWN_REALTY', 'CNT_CHILDREN', 'AMT_INCOME_TOTAL',\n",
       "       'AMT_CREDIT', 'AMT_ANNUITY',\n",
       "       ...\n",
       "       'FLAG_DOCUMENT_18', 'FLAG_DOCUMENT_19', 'FLAG_DOCUMENT_20',\n",
       "       'FLAG_DOCUMENT_21', 'AMT_REQ_CREDIT_BUREAU_HOUR',\n",
       "       'AMT_REQ_CREDIT_BUREAU_DAY', 'AMT_REQ_CREDIT_BUREAU_WEEK',\n",
       "       'AMT_REQ_CREDIT_BUREAU_MON', 'AMT_REQ_CREDIT_BUREAU_QRT',\n",
       "       'AMT_REQ_CREDIT_BUREAU_YEAR'],\n",
       "      dtype='object', length=122)"
      ]
     },
     "execution_count": 16,
     "metadata": {},
     "output_type": "execute_result"
    }
   ],
   "source": [
    "app_train.columns"
   ]
  },
  {
   "cell_type": "markdown",
   "metadata": {},
   "source": [
    "#### 截取部分資料"
   ]
  },
  {
   "cell_type": "code",
   "execution_count": 19,
   "metadata": {},
   "outputs": [
    {
     "data": {
      "text/html": [
       "<div>\n",
       "<style scoped>\n",
       "    .dataframe tbody tr th:only-of-type {\n",
       "        vertical-align: middle;\n",
       "    }\n",
       "\n",
       "    .dataframe tbody tr th {\n",
       "        vertical-align: top;\n",
       "    }\n",
       "\n",
       "    .dataframe thead th {\n",
       "        text-align: right;\n",
       "    }\n",
       "</style>\n",
       "<table border=\"1\" class=\"dataframe\">\n",
       "  <thead>\n",
       "    <tr style=\"text-align: right;\">\n",
       "      <th></th>\n",
       "      <th>SK_ID_CURR</th>\n",
       "      <th>TARGET</th>\n",
       "      <th>NAME_CONTRACT_TYPE</th>\n",
       "      <th>CODE_GENDER</th>\n",
       "      <th>FLAG_OWN_CAR</th>\n",
       "      <th>FLAG_OWN_REALTY</th>\n",
       "      <th>CNT_CHILDREN</th>\n",
       "      <th>AMT_INCOME_TOTAL</th>\n",
       "      <th>AMT_CREDIT</th>\n",
       "      <th>AMT_ANNUITY</th>\n",
       "      <th>...</th>\n",
       "      <th>FLAG_DOCUMENT_18</th>\n",
       "      <th>FLAG_DOCUMENT_19</th>\n",
       "      <th>FLAG_DOCUMENT_20</th>\n",
       "      <th>FLAG_DOCUMENT_21</th>\n",
       "      <th>AMT_REQ_CREDIT_BUREAU_HOUR</th>\n",
       "      <th>AMT_REQ_CREDIT_BUREAU_DAY</th>\n",
       "      <th>AMT_REQ_CREDIT_BUREAU_WEEK</th>\n",
       "      <th>AMT_REQ_CREDIT_BUREAU_MON</th>\n",
       "      <th>AMT_REQ_CREDIT_BUREAU_QRT</th>\n",
       "      <th>AMT_REQ_CREDIT_BUREAU_YEAR</th>\n",
       "    </tr>\n",
       "  </thead>\n",
       "  <tbody>\n",
       "    <tr>\n",
       "      <th>0</th>\n",
       "      <td>100002</td>\n",
       "      <td>1</td>\n",
       "      <td>Cash loans</td>\n",
       "      <td>M</td>\n",
       "      <td>N</td>\n",
       "      <td>Y</td>\n",
       "      <td>0</td>\n",
       "      <td>202500.0</td>\n",
       "      <td>406597.5</td>\n",
       "      <td>24700.5</td>\n",
       "      <td>...</td>\n",
       "      <td>0</td>\n",
       "      <td>0</td>\n",
       "      <td>0</td>\n",
       "      <td>0</td>\n",
       "      <td>0.0</td>\n",
       "      <td>0.0</td>\n",
       "      <td>0.0</td>\n",
       "      <td>0.0</td>\n",
       "      <td>0.0</td>\n",
       "      <td>1.0</td>\n",
       "    </tr>\n",
       "    <tr>\n",
       "      <th>1</th>\n",
       "      <td>100003</td>\n",
       "      <td>0</td>\n",
       "      <td>Cash loans</td>\n",
       "      <td>F</td>\n",
       "      <td>N</td>\n",
       "      <td>N</td>\n",
       "      <td>0</td>\n",
       "      <td>270000.0</td>\n",
       "      <td>1293502.5</td>\n",
       "      <td>35698.5</td>\n",
       "      <td>...</td>\n",
       "      <td>0</td>\n",
       "      <td>0</td>\n",
       "      <td>0</td>\n",
       "      <td>0</td>\n",
       "      <td>0.0</td>\n",
       "      <td>0.0</td>\n",
       "      <td>0.0</td>\n",
       "      <td>0.0</td>\n",
       "      <td>0.0</td>\n",
       "      <td>0.0</td>\n",
       "    </tr>\n",
       "    <tr>\n",
       "      <th>2</th>\n",
       "      <td>100004</td>\n",
       "      <td>0</td>\n",
       "      <td>Revolving loans</td>\n",
       "      <td>M</td>\n",
       "      <td>Y</td>\n",
       "      <td>Y</td>\n",
       "      <td>0</td>\n",
       "      <td>67500.0</td>\n",
       "      <td>135000.0</td>\n",
       "      <td>6750.0</td>\n",
       "      <td>...</td>\n",
       "      <td>0</td>\n",
       "      <td>0</td>\n",
       "      <td>0</td>\n",
       "      <td>0</td>\n",
       "      <td>0.0</td>\n",
       "      <td>0.0</td>\n",
       "      <td>0.0</td>\n",
       "      <td>0.0</td>\n",
       "      <td>0.0</td>\n",
       "      <td>0.0</td>\n",
       "    </tr>\n",
       "  </tbody>\n",
       "</table>\n",
       "<p>3 rows × 122 columns</p>\n",
       "</div>"
      ],
      "text/plain": [
       "   SK_ID_CURR  TARGET NAME_CONTRACT_TYPE CODE_GENDER FLAG_OWN_CAR  \\\n",
       "0      100002       1         Cash loans           M            N   \n",
       "1      100003       0         Cash loans           F            N   \n",
       "2      100004       0    Revolving loans           M            Y   \n",
       "\n",
       "  FLAG_OWN_REALTY  CNT_CHILDREN  AMT_INCOME_TOTAL  AMT_CREDIT  AMT_ANNUITY  \\\n",
       "0               Y             0          202500.0    406597.5      24700.5   \n",
       "1               N             0          270000.0   1293502.5      35698.5   \n",
       "2               Y             0           67500.0    135000.0       6750.0   \n",
       "\n",
       "   ...  FLAG_DOCUMENT_18 FLAG_DOCUMENT_19 FLAG_DOCUMENT_20 FLAG_DOCUMENT_21  \\\n",
       "0  ...                 0                0                0                0   \n",
       "1  ...                 0                0                0                0   \n",
       "2  ...                 0                0                0                0   \n",
       "\n",
       "  AMT_REQ_CREDIT_BUREAU_HOUR AMT_REQ_CREDIT_BUREAU_DAY  \\\n",
       "0                        0.0                       0.0   \n",
       "1                        0.0                       0.0   \n",
       "2                        0.0                       0.0   \n",
       "\n",
       "   AMT_REQ_CREDIT_BUREAU_WEEK  AMT_REQ_CREDIT_BUREAU_MON  \\\n",
       "0                         0.0                        0.0   \n",
       "1                         0.0                        0.0   \n",
       "2                         0.0                        0.0   \n",
       "\n",
       "   AMT_REQ_CREDIT_BUREAU_QRT  AMT_REQ_CREDIT_BUREAU_YEAR  \n",
       "0                        0.0                         1.0  \n",
       "1                        0.0                         0.0  \n",
       "2                        0.0                         0.0  \n",
       "\n",
       "[3 rows x 122 columns]"
      ]
     },
     "execution_count": 19,
     "metadata": {},
     "output_type": "execute_result"
    }
   ],
   "source": [
    "# slice\n",
    "app_train[0:3] # 取得索引值 0-2 的資料，注意區間是左閉右開， 3 的部分是沒被包含進去的。"
   ]
  },
  {
   "cell_type": "code",
   "execution_count": 5,
   "metadata": {},
   "outputs": [
    {
     "data": {
      "text/plain": [
       "SK_ID_CURR                               100003\n",
       "TARGET                                        0\n",
       "NAME_CONTRACT_TYPE                   Cash loans\n",
       "CODE_GENDER                                   F\n",
       "FLAG_OWN_CAR                                  N\n",
       "FLAG_OWN_REALTY                               N\n",
       "CNT_CHILDREN                                  0\n",
       "AMT_INCOME_TOTAL                         270000\n",
       "AMT_CREDIT                           1.2935e+06\n",
       "AMT_ANNUITY                             35698.5\n",
       "AMT_GOODS_PRICE                      1.1295e+06\n",
       "NAME_TYPE_SUITE                          Family\n",
       "NAME_INCOME_TYPE                  State servant\n",
       "NAME_EDUCATION_TYPE            Higher education\n",
       "NAME_FAMILY_STATUS                      Married\n",
       "NAME_HOUSING_TYPE             House / apartment\n",
       "REGION_POPULATION_RELATIVE             0.003541\n",
       "DAYS_BIRTH                               -16765\n",
       "DAYS_EMPLOYED                             -1188\n",
       "DAYS_REGISTRATION                         -1186\n",
       "DAYS_ID_PUBLISH                            -291\n",
       "OWN_CAR_AGE                                 NaN\n",
       "FLAG_MOBIL                                    1\n",
       "FLAG_EMP_PHONE                                1\n",
       "FLAG_WORK_PHONE                               0\n",
       "FLAG_CONT_MOBILE                              1\n",
       "FLAG_PHONE                                    1\n",
       "FLAG_EMAIL                                    0\n",
       "OCCUPATION_TYPE                      Core staff\n",
       "CNT_FAM_MEMBERS                               2\n",
       "                                    ...        \n",
       "DEF_30_CNT_SOCIAL_CIRCLE                      0\n",
       "OBS_60_CNT_SOCIAL_CIRCLE                      1\n",
       "DEF_60_CNT_SOCIAL_CIRCLE                      0\n",
       "DAYS_LAST_PHONE_CHANGE                     -828\n",
       "FLAG_DOCUMENT_2                               0\n",
       "FLAG_DOCUMENT_3                               1\n",
       "FLAG_DOCUMENT_4                               0\n",
       "FLAG_DOCUMENT_5                               0\n",
       "FLAG_DOCUMENT_6                               0\n",
       "FLAG_DOCUMENT_7                               0\n",
       "FLAG_DOCUMENT_8                               0\n",
       "FLAG_DOCUMENT_9                               0\n",
       "FLAG_DOCUMENT_10                              0\n",
       "FLAG_DOCUMENT_11                              0\n",
       "FLAG_DOCUMENT_12                              0\n",
       "FLAG_DOCUMENT_13                              0\n",
       "FLAG_DOCUMENT_14                              0\n",
       "FLAG_DOCUMENT_15                              0\n",
       "FLAG_DOCUMENT_16                              0\n",
       "FLAG_DOCUMENT_17                              0\n",
       "FLAG_DOCUMENT_18                              0\n",
       "FLAG_DOCUMENT_19                              0\n",
       "FLAG_DOCUMENT_20                              0\n",
       "FLAG_DOCUMENT_21                              0\n",
       "AMT_REQ_CREDIT_BUREAU_HOUR                    0\n",
       "AMT_REQ_CREDIT_BUREAU_DAY                     0\n",
       "AMT_REQ_CREDIT_BUREAU_WEEK                    0\n",
       "AMT_REQ_CREDIT_BUREAU_MON                     0\n",
       "AMT_REQ_CREDIT_BUREAU_QRT                     0\n",
       "AMT_REQ_CREDIT_BUREAU_YEAR                    0\n",
       "Name: 1, Length: 122, dtype: object"
      ]
     },
     "execution_count": 5,
     "metadata": {},
     "output_type": "execute_result"
    }
   ],
   "source": [
    "# 使用 iloc 來取得資料\n",
    "# iloc 是 index based 取資料的方式。它可以使用底下的方式來取得資料。\n",
    "# 使用單一個整數來取得資料，例如 iloc[5]。(取得series)\n",
    "# student.iloc[[0]] 單一整數，取得一個 DataFrame\n",
    "# 使用一串整數來取得資料，例如 iloc[[1,3,5]]。 (取得多個row)\n",
    "# 使用 slice 來取得資料，例如 iloc[1:3]\n",
    "\n",
    "app_train.iloc[1]"
   ]
  },
  {
   "cell_type": "markdown",
   "metadata": {},
   "source": [
    "#### 還有各種數之不盡的資料操作，重點還是取決於實務中遇到的狀況和你想問的問題，在馬拉松中我們也會陸續提到更多例子"
   ]
  },
  {
   "cell_type": "markdown",
   "metadata": {
    "collapsed": true
   },
   "source": [
    "- df.head(10)  #顯示出前10筆資料，預設值為5筆資料\n",
    "- df.tail(10)  #顯示倒數10筆資料\n",
    "- len(df)      #顯示資料總筆數\n",
    "- df.dtypes    #顯示資料類型\n",
    "- df.describe()#顯示統計數字(最大、最小、平均......等)\n",
    "- df.rename(columns={'舊欄位名稱': '新欄位名稱'}) #修改欄位名稱\n",
    "- df.columns                        #顯示有哪些欄位\n",
    "- df.columns = ['XXX','XXX', 'XXX'] #新增欄位\n",
    "- df.T         #行與列互換，等同於df.transpose()\n",
    "\n",
    "- df.info()    #顯示資料的狀態與資訊\n",
    "- df.info(memory_usage='deep') #顯示記憶體使用狀況\n",
    "- df.query('A < 0.5 and B < 0.5')      #查詢A<0.5且B<0.5的資料\n",
    "- df.duplicated()     #顯示重複的資料\n",
    "- df.drop_duplicates()#刪除重複的資料\n",
    "- df.drop_duplicates(['Name']) #刪除Name欄位重複的資料\n",
    "- df.value_counts()  #查看有哪些不同的值，並計算每個值有多少個重複值"
   ]
  },
  {
   "cell_type": "code",
   "execution_count": null,
   "metadata": {},
   "outputs": [],
   "source": []
  }
 ],
 "metadata": {
  "kernelspec": {
   "display_name": "Python 3",
   "language": "python",
   "name": "python3"
  },
  "language_info": {
   "codemirror_mode": {
    "name": "ipython",
    "version": 3
   },
   "file_extension": ".py",
   "mimetype": "text/x-python",
   "name": "python",
   "nbconvert_exporter": "python",
   "pygments_lexer": "ipython3",
   "version": "3.6.8"
  }
 },
 "nbformat": 4,
 "nbformat_minor": 2
}

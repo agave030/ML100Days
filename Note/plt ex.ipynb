{
 "cells": [
  {
   "cell_type": "code",
   "execution_count": null,
   "metadata": {},
   "outputs": [],
   "source": [
    "# https://mp.weixin.qq.com/s?__biz=MzU4MzkxOTgyOQ==&mid=2247486963&amp;idx=1&amp;sn=6a7b9fad6d7de505ae9acc809e91d450&source=41#wechat_redirect\n",
    "import matplotlib.pyplot as plt\n",
    "import numpy as np\n",
    "\n",
    "# 定義 x 的範圍 (-3，3) 數量 50 \n",
    "x=np.linspace(-3,3,50)\n",
    "y=x**2\n",
    "\n",
    "# Figure 並指定大小\n",
    "plt.figure(num=3,figsize=(8,5))\n",
    "# 畫 y=x^2 的圖， color 為 red，線寬為 1，線的樣式是 --\n",
    "plt.plot(x,y,color='red',linewidth=1.0,linestyle='--')\n",
    "\n",
    "# 設 x y 軸的範圍以及 label 標註\n",
    "plt.xlim(-1,2)\n",
    "plt.ylim(-2,3)\n",
    "plt.xlabel('x')\n",
    "plt.ylabel('y')\n",
    "\n",
    "# 設置坐標軸刻度線\n",
    "# Tick X 范围 (-1，2) Tick Label(-1，-0.25，0.5，1.25，2) 刻度数量 5 个\n",
    "new_ticks=np.linspace(-1,2,5)\n",
    "plt.xticks(new_ticks)\n",
    "\n",
    "# Tick Y 范围(-2.2,-1,1,1.5,2.4) ，Tick Label (-2.2, -1, 1, 1.5, 2.4) 别名(下面的英文)\n",
    "plt.yticks([-2.2,-1,1,1.5,2.4],\n",
    "          [r'$really\\ bad$',r'$bad$',r'$normal$',r'$good$',r'$really\\ good$'])\n",
    "\n",
    "\n",
    "# 设置坐标轴 gca() 获取坐标轴信息\n",
    "ax=plt.gca()\n",
    "# 使用.spines设置边框：x轴；将右边颜色设置为 none。\n",
    "# 使用.set_position设置边框位置：y=0的位置；（位置所有属性：outward，axes，data）\n",
    "ax.spines['right'].set_color('none')\n",
    "ax.spines['top'].set_color('none')\n",
    "\n",
    "# 移动坐标轴\n",
    "# 将 bottom 即是 x 坐标轴设置到 y=0 的位置。\n",
    "ax.xaxis.set_ticks_position('bottom')\n",
    "ax.spines['bottom'].set_position(('data',0))\n",
    "\n",
    "# 将 left 即是 y 坐标轴设置到 x=0 的位置。\n",
    "ax.yaxis.set_ticks_position('left')\n",
    "ax.spines['left'].set_position(('data',0))\n",
    "\n",
    "# 设置标签\n",
    "ax.set_title('y = x^2',fontsize=14,color='r')\n",
    "\n",
    "# 显示图像\n",
    "plt.show()"
   ]
  }
 ],
 "metadata": {
  "kernelspec": {
   "display_name": "Python 3",
   "language": "python",
   "name": "python3"
  },
  "language_info": {
   "codemirror_mode": {
    "name": "ipython",
    "version": 3
   },
   "file_extension": ".py",
   "mimetype": "text/x-python",
   "name": "python",
   "nbconvert_exporter": "python",
   "pygments_lexer": "ipython3",
   "version": "3.6.8"
  }
 },
 "nbformat": 4,
 "nbformat_minor": 2
}

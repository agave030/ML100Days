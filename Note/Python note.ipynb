{
 "cells": [
  {
   "cell_type": "markdown",
   "metadata": {},
   "source": [
    "## Data type\n",
    "- `type(variable)` 得知type\n",
    "- `str(var)` 把數字轉乘string\n",
    "- ps. >> 表示output\n",
    "<br>\n",
    "\n",
    "- `int`: 前綴─二進位0b/ 八進位0o/ 十六進位0x\n",
    "- `float`:\n",
    "    - e.g. \n",
    "        - b = .4 >> 0.4\n",
    "        - c = 1.2e - 4 >> 1.2*10^-4\n",
    "    - 浮點數怎麼算都是浮點數\n",
    "    - 2//4 = 0, 4//2 = 2 >> 取整數\n",
    "- `string`\n",
    "    - e.g. \n",
    "        - a = \"abc\\nabc\" >> abc (換行) abc\n",
    "        - c = \"a\\\"b\\\"c\" >> \"a\"b\"c\"\n",
    "    - index\n",
    "        - e.g. \n",
    "            - a = \"text\", a[0] = 't', a[-1] = 't'\n",
    "            - a = \"1\", b = \"2\"\n",
    "                - a + b = \"12\" (字串相接)\n",
    "                - a * 5 = \"11111\"\n",
    "                - 注意：字符串不能互乘\n",
    "    - Initialization\n",
    "        - e.g. name = 'Python', age = 27\n",
    "        1. `new_str = \"我是{}, 今年{}歲\".format(name, age) >> 我是Python, 今年27歲了`\n",
    "        2. `new_str2 = \"我是{name}, 今年{age}歲了\".format(name = 'aaa', age = 'bbb')` >> 我是aaa, 今年bbb歲了\n",
    "        3. `new_str3 = f\"我是{name}, 今年{age}歲了\"` （直接引用外面變數）\n",
    "- `Boolean`: true/ false\n",
    "- **`None`** 空值：沒有值 e.g. a = None"
   ]
  },
  {
   "cell_type": "markdown",
   "metadata": {},
   "source": [
    "# list and tuple\n",
    "## list [ ]\n",
    "- e.g. \n",
    "    - a = [1, 2, 3]\n",
    "    - b = [1, 'abc', 2.0, ['a', 'b', 'c']]\n",
    "- slice: `b[1:3]` >> ['abc', 2.0] (從index[1]開始，打印多少個 3-1 = 2）\n",
    "<br>\n",
    "- Operation\n",
    "    1. 長度：`len(list)`\n",
    "    2. `max/min(list)`\n",
    "    3. 某元素出現幾次：`print(\"{}次\".format(list.count(元素)))`\n",
    "    4. 改變\n",
    "        1. 添加元素：\n",
    "            - 結尾：`list.append('e')`\n",
    "            - 插入：`list.insert(1, 'b')` 插在index[1]的地方\n",
    "        2. 刪除：`list.remove('b')\n",
    "        3. 賦值：`list[0] = '?'` 覆蓋index[0]的值\n",
    "            - 若 a = '123' a[0] = 'a' 不可行，不能對string賦值\n",
    "        4. 翻轉：`list.reverse()`\n",
    "        5. 排序：`list.sort()` 默認小到大 `list.sort(reverse = True)` 大到小\n",
    "        6. list * 2 ：元素重複兩次\n",
    "        7. list 相加：元素加進 list，默認從前面加入\n",
    "<br>\n",
    "<br>\n",
    "\n",
    "## tuple ( )\n",
    "- e.g.\n",
    "    - a = (1, 2, 3)\n",
    "        - index: a[1] = 2, a[1:]: (2, 3), a[1:3]: (2, 3)\n",
    "    - b = 1, 注意逗號，只有一個元素的tuple\n",
    "- 操作\n",
    "    - `len(), max/min(), count‵\n",
    "    - **不能改元素**：tuple[1] = 2 不可行\n",
    "    - `tuple.index(element)`：位置\n",
    "<br>\n",
    "<br>\n",
    "\n",
    "## list[]  vs  tuple()\n",
    "- 可變(mutable)- 兩個內存(實際數據、拓展) vs 不可變-固定的內存\n",
    "- 靈活 vs 較快（可保護數據）\n",
    "\n"
   ]
  },
  {
   "cell_type": "markdown",
   "metadata": {},
   "source": [
    "# dictionary { } and set\n",
    "## dictionary\n",
    "- e.g.\n",
    "    a = {\n",
    "        1: 'a',\n",
    "        2: 'b',\n",
    "        3: 'c',\n",
    "    }\n",
    "- 只能放不可改變的資料型態 **list, dic不可用**(不能dic中再有dic)\n",
    "- e.g. e = dict(a = 1, b = 2, c = 'a') 把右邊這串轉乘dic\n",
    "    - 訪問 e['c'] >> 'a'\n",
    "    - 改變 e['d'] = 123 >> {'a': 1, 'b': 2, 'c': 3, 'd': 123} \n",
    "- e.g.\n",
    "    - d = {\n",
    "          'Name': 'Jack',\n",
    "          'Age': 9,\n",
    "          'Grade': 5,\n",
    "      }\n",
    "        - name, age, grade: key\n",
    "        - Jack, 9, 5: value\n",
    "    - operation:\n",
    "        - `d['Name']` >> Jack\n",
    "        - `d.get(\"name\")` >> None\n",
    "        - `d.keys()` >> dict_keys(['Name', ...,])\n",
    "        - `d.values()` >>('Jack', 9, 5)\n",
    "        - `d.items()\n",
    "        - `d.pop('Name')`：不可逆消除\n",
    "        - `d.clear()` ：清空\n",
    "        - 更新: c = {1:1, 2:2}\n",
    "            - `c.update(d)` d添加或覆蓋已有的c, `e = {* *c, * *d}` 相同功能\n",
    "<br>\n",
    "<br>\n",
    "\n",
    "## Set\n",
    "- e.g. `a = {\"a\", \"b\", \"c\"}`\n",
    "    - 並不在意value，而是來判斷元素入是否在其中\n",
    "    - 看位置 `t = 'd' in a` >>> False\n",
    "    - `l = {1, 2, 3, 2, 4, 5, 2} `\n",
    "    - `1s1 = set(l)` 淨空重複元素\n",
    "    - `print(s1, type(s1))` >> {1, 2, 3, 4, 5} dtype = set\n",
    "- Operation\n",
    "    - e.g. s = {1, 2, 3, 4}\n",
    "        - `s.add(5)` 從後面添加，重複元素不添加\n",
    "        - `s.remove()`\n",
    "    - e.g. a = '12345'\n",
    "        - `s1 = set(a)` 創建成set >>> {'1', '3', '4', '5', '2'} **無序**\n",
    "    - s1 = set(a) 淨空重複元素\n",
    "    - s1 = {1, 2, 3, 4} s2 = {3, 4, 5, 6}\n",
    "        - 交集：s1 & s2 >>> {3, 4} \n",
    "        - 聯集：s1 | s2 >>> {1, 2, 3, 4, 5, 6}\n",
    "        - 差集：s1 ^ s2 >>> {1, 2, 5, 6}"
   ]
  },
  {
   "cell_type": "markdown",
   "metadata": {},
   "source": [
    "# conditional statement and loop\n",
    "## if\n",
    "`` if condition:\n",
    "  statement\n",
    "else:\n",
    "  statement``\n",
    "       \n",
    "## if, elif, else\n",
    "`` if condition:\n",
    "     statement\n",
    "elif condition:\n",
    "     statement\n",
    "else:\n",
    "     statement``\n",
    "     \n",
    "## while\n",
    "`` while condion:\n",
    "    statement``\n",
    "    \n",
    "## for\n",
    "`` for item in 可迭代的對象(list, tuple, dic, set):\n",
    "    statement``\n",
    "## break : 跳出迴圈\n",
    "## continue: 本次迴圈跳出，忽略後面，直接進入下個循環"
   ]
  },
  {
   "cell_type": "code",
   "execution_count": null,
   "metadata": {},
   "outputs": [],
   "source": [
    "# for的例子\n",
    "b = [1, 2, 3, 4]\n",
    "for item in b:\n",
    "    print(item) \n",
    "d = { 1:'a', 2:'b', 3:'c'}\n",
    "for item in d:\n",
    "    print(item)  #key\n",
    "for a, b in d.items():\n",
    "    print('{} = {}'.format(a, b)) "
   ]
  },
  {
   "cell_type": "markdown",
   "metadata": {},
   "source": [
    "# Function\n",
    "## 定義\n",
    "- def name(parameter):     #位置參數sum(5,2)、關鍵字參數sum(a = 5, b = 2)\n",
    "    - statement\n",
    "## domain\n",
    "- 在函數內定義，只在函數內有效（且可以重名），因此在main中無法使用\n",
    "- 若在函數內修改參數外傳，可行嗎？"
   ]
  },
  {
   "cell_type": "code",
   "execution_count": 5,
   "metadata": {},
   "outputs": [],
   "source": [
    "def my_max(a):\n",
    "    if not a:\n",
    "        return None\n",
    "    max_value = a[0]\n",
    "    for item in a:\n",
    "        if item > max_value:\n",
    "            max_value = item\n",
    "    return max_value"
   ]
  },
  {
   "cell_type": "code",
   "execution_count": 7,
   "metadata": {},
   "outputs": [
    {
     "name": "stdout",
     "output_type": "stream",
     "text": [
      "2\n",
      "12\n",
      "2\n"
     ]
    }
   ],
   "source": [
    "# 傳遞參數時是個引用，因此 a 是新的變數\n",
    "x = 2\n",
    "print(x)\n",
    "def demo(a):\n",
    "    a = a + 10\n",
    "    print(a)\n",
    "demo(a = x)\n",
    "print(x)"
   ]
  },
  {
   "cell_type": "code",
   "execution_count": 9,
   "metadata": {},
   "outputs": [
    {
     "name": "stdout",
     "output_type": "stream",
     "text": [
      "[1, 2, 3]\n",
      "[1, 2, 3, 4]\n",
      "[1, 2, 3, 4]\n"
     ]
    }
   ],
   "source": [
    "y = [1, 2, 3]\n",
    "print(y)\n",
    "def demo1(a):\n",
    "    a.append(4) #a跟y在內存是同個地方\n",
    "    print(a)\n",
    "demo1(a = y)\n",
    "print(y)"
   ]
  },
  {
   "cell_type": "code",
   "execution_count": 10,
   "metadata": {},
   "outputs": [
    {
     "name": "stdout",
     "output_type": "stream",
     "text": [
      "11\n",
      "11\n"
     ]
    }
   ],
   "source": [
    "z = 1\n",
    "def demo2(a):\n",
    "    global z\n",
    "    z = z + a\n",
    "    print(z)\n",
    "demo2(a = 10)\n",
    "print(z)"
   ]
  },
  {
   "cell_type": "markdown",
   "metadata": {},
   "source": [
    "## 可變參數*args\n",
    "- 如果要印很多個？用list or *args 可傳任一個參數"
   ]
  },
  {
   "cell_type": "code",
   "execution_count": 13,
   "metadata": {},
   "outputs": [
    {
     "name": "stdout",
     "output_type": "stream",
     "text": [
      "(1, 2, 3)\n",
      "6\n"
     ]
    }
   ],
   "source": [
    "def add(*args):\n",
    "    print(args)\n",
    "    result = 0\n",
    "    for item in args:\n",
    "        result += item\n",
    "    return result\n",
    "print(add(1, 2, 3))"
   ]
  },
  {
   "cell_type": "markdown",
   "metadata": {},
   "source": [
    "## 關鍵字參數 **kkwargs"
   ]
  },
  {
   "cell_type": "code",
   "execution_count": 14,
   "metadata": {},
   "outputs": [
    {
     "name": "stdout",
     "output_type": "stream",
     "text": [
      "{'a': 1, 'b': 2}\n"
     ]
    }
   ],
   "source": [
    "def add(**kwargs):\n",
    "    print(kwargs)       #每個參數都要一個關鍵字\n",
    "add(a = 1, b = 2)"
   ]
  },
  {
   "cell_type": "code",
   "execution_count": 17,
   "metadata": {},
   "outputs": [
    {
     "name": "stdout",
     "output_type": "stream",
     "text": [
      "{'a': 1, 'b': 2, 'c': 3}\n",
      "9\n"
     ]
    }
   ],
   "source": [
    "def add(**kwargs):\n",
    "    print(kwargs)\n",
    "    return(kwargs.get('a') + kwargs.get('b')) * kwargs.get('c')\n",
    "print(add(a = 1, b = 2, c = 3))"
   ]
  },
  {
   "cell_type": "code",
   "execution_count": 19,
   "metadata": {},
   "outputs": [
    {
     "name": "stdout",
     "output_type": "stream",
     "text": [
      "3\n"
     ]
    }
   ],
   "source": [
    "# 在函數內調用其他函數\n",
    "# pass 不做但不爆錯\n",
    "def test(a, b):\n",
    "    print(a + b)\n",
    "def add(x, **kwargs):           #**kkwargs 不在意傳了多少變數\n",
    "    if x == 2:\n",
    "        test(**kwargs)          # 調用test()，a b用add傳遞，不用改add函數\n",
    "add(x = 2, a = 1, b = 2)        # 需調用時傳對參數"
   ]
  },
  {
   "cell_type": "markdown",
   "metadata": {},
   "source": [
    "## 參數默認值：不傳參數但有默認值"
   ]
  },
  {
   "cell_type": "code",
   "execution_count": 20,
   "metadata": {},
   "outputs": [
    {
     "name": "stdout",
     "output_type": "stream",
     "text": [
      "4\n",
      "2\n"
     ]
    }
   ],
   "source": [
    "def test(a, b = False):\n",
    "    if b:\n",
    "        return a\n",
    "    else:\n",
    "        return a*a\n",
    "print(test(a = 2))\n",
    "print(test(a = 2, b = True))\n",
    "\n",
    "# 默認值放到最後一位\n",
    "# 任何參數只能放在 *args, **kkwargs前"
   ]
  },
  {
   "cell_type": "markdown",
   "metadata": {},
   "source": [
    "## 遞迴"
   ]
  },
  {
   "cell_type": "code",
   "execution_count": 22,
   "metadata": {},
   "outputs": [
    {
     "name": "stdout",
     "output_type": "stream",
     "text": [
      "1\n",
      "2\n",
      "3\n",
      "4\n",
      "24\n"
     ]
    }
   ],
   "source": [
    "# a! = ?\n",
    "def test(n):\n",
    "    result = 1\n",
    "    for item in range(1, n + 1):\n",
    "        result *= item\n",
    "        print(item)\n",
    "    return result\n",
    "print(test(4))"
   ]
  },
  {
   "cell_type": "code",
   "execution_count": 24,
   "metadata": {},
   "outputs": [
    {
     "name": "stdout",
     "output_type": "stream",
     "text": [
      "24\n"
     ]
    }
   ],
   "source": [
    "# n*(n-1)*(n-2)*...*2*1\n",
    "def test(n):\n",
    "    if n == 1:  #退出遞迴\n",
    "        return n\n",
    "    return n*test(n-1)\n",
    "print(test(4))"
   ]
  },
  {
   "cell_type": "markdown",
   "metadata": {},
   "source": [
    "# class and object\n",
    "- class 分做 attritube, method\n",
    "- Python: 以 object 做為基本單元，所有數據都是一 object\n",
    "- class: 自訂一object，一抽象數據集合"
   ]
  },
  {
   "cell_type": "code",
   "execution_count": 25,
   "metadata": {},
   "outputs": [
    {
     "data": {
      "text/plain": [
       "__main__.MyClass"
      ]
     },
     "execution_count": 25,
     "metadata": {},
     "output_type": "execute_result"
    }
   ],
   "source": [
    "class MyClass:       # define\n",
    "    pass     # when it is executed, nothing happens.\n",
    "my_class = MyClass()   # my_class是'MyClass'的一個 object\n",
    "type(my_class)"
   ]
  },
  {
   "cell_type": "code",
   "execution_count": 27,
   "metadata": {},
   "outputs": [
    {
     "name": "stdout",
     "output_type": "stream",
     "text": [
      "Hi, my name is Jack, and I'm 28\n"
     ]
    }
   ],
   "source": [
    "# __init__() method\n",
    "# attribute\n",
    "# method(在class中的function) vs function\n",
    "\n",
    "# __init__ class初始化必備\n",
    "# 任何 class 的 method 第一個都是 self 這個參數\n",
    "class People:\n",
    "    def __init__(self, name, age):     \n",
    "        self.name = name           #初始化賦值\n",
    "        self.age = age        # name, age: 屬性\n",
    "    def sayhi(self):\n",
    "        print(\"Hi, my name is {}, and I'm {}\".format(self.name, self.age))  # self.attribute 訪問 value\n",
    "someone = People(name = 'Jack', age = 28)         # someone: 一個 People 的 Object  #(name = 'Jack', age = 28)  初始化賦值       \n",
    "someone.sayhi()     # object.method/ attribute 訪問用"
   ]
  },
  {
   "cell_type": "markdown",
   "metadata": {},
   "source": [
    "# Private/ Protective Attribute"
   ]
  },
  {
   "cell_type": "code",
   "execution_count": 32,
   "metadata": {},
   "outputs": [
    {
     "name": "stdout",
     "output_type": "stream",
     "text": [
      "['__class__', '__delattr__', '__dict__', '__dir__', '__doc__', '__eq__', '__format__', '__ge__', '__getattribute__', '__gt__', '__hash__', '__init__', '__init_subclass__', '__le__', '__lt__', '__module__', '__ne__', '__new__', '__reduce__', '__reduce_ex__', '__repr__', '__setattr__', '__sizeof__', '__str__', '__subclasshook__', '__weakref__', '_protect_var', 'age', 'name', 'sayhi']\n"
     ]
    }
   ],
   "source": [
    "class People:\n",
    "    def __init__(self, name, age):\n",
    "        self.name = name\n",
    "        self.age = age\n",
    "        self._protect_var = 10          # 一個下底線：受保護的，不能隨意更改\n",
    "        self.__private_var = 10         # 兩個下底線：私有的，只有在 class 內部才能訪問跟改值\n",
    "    def get_var(self):                  # 訪問\n",
    "        print(self.__private_var)\n",
    "    def set_var(self):                  # 改值\n",
    "        self.__private_var = var\n",
    "someone._protect_var = 30               # 可訪問、改值\n",
    "#someone.__private_var                  # 不可訪問\n",
    "print(dir(someone))                     # dir: someone支持的屬性與方法\n",
    "                                        # 找不到 private attrubute，但找的到_People__pricate_var，只是重命名而已\n",
    "someone._People__private_var = 30       # 這時就可訪問改值"
   ]
  },
  {
   "cell_type": "markdown",
   "metadata": {},
   "source": [
    "## Property(Private Attrubute)"
   ]
  },
  {
   "cell_type": "code",
   "execution_count": 2,
   "metadata": {},
   "outputs": [],
   "source": [
    "class People:\n",
    "    def __init__(self, name, age):\n",
    "        self.__name = name\n",
    "        self.__age = age\n",
    "    def name(self):           # name 是 people 的一個 property\n",
    "        return self.__name    # 裝飾器，因為想要 people, age 可以直接用一個點訪問\n",
    "# print(someone.name)\n",
    "    def set_name(self, name):\n",
    "        self.__name = name\n",
    "# 略"
   ]
  },
  {
   "cell_type": "markdown",
   "metadata": {},
   "source": [
    "## Module and package"
   ]
  },
  {
   "cell_type": "markdown",
   "metadata": {},
   "source": [
    "### 甚麼是module?\n",
    "- 當程式很複雜時，在單一文件中很難維護\n",
    "- 模塊可以是文件\n",
    "-  就像標頭檔一樣，想在別的文件中使用這個模塊中定義共用方法、類、函數\n",
    "<br>\n",
    "\n",
    "### 甚麼是package?\n",
    "- 使用模塊需要package\n",
    "- 在目錄中點 new package，是一個文件夾，且有__init__文件（有就是 package），這個文件夾就是 package，可以把 module 的文件放進去\n",
    "- e.g. ch8(folder)  // package\n",
    "    - demo(folder)\n",
    "        - __ init __ .py // 只要資料夾裡面有這個文件，就是一個 package\n",
    "        - math.py // module\n",
    "    - __ init __ .py\n",
    "    - test.py   // 可以使用 math\n",
    "> from demo.math import my_sum"
   ]
  },
  {
   "cell_type": "code",
   "execution_count": null,
   "metadata": {},
   "outputs": [],
   "source": []
  }
 ],
 "metadata": {
  "kernelspec": {
   "display_name": "Python 3",
   "language": "python",
   "name": "python3"
  },
  "language_info": {
   "codemirror_mode": {
    "name": "ipython",
    "version": 3
   },
   "file_extension": ".py",
   "mimetype": "text/x-python",
   "name": "python",
   "nbconvert_exporter": "python",
   "pygments_lexer": "ipython3",
   "version": "3.6.8"
  }
 },
 "nbformat": 4,
 "nbformat_minor": 2
}

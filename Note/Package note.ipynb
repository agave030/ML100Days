{
 "cells": [
  {
   "cell_type": "markdown",
   "metadata": {},
   "source": [
    "# Numpy and pandas\n",
    "## panda是numpy的升級版\n",
    "\n",
    "<br>\n",
    "\n",
    "## Numpy\n",
    "- attribute: ndim(維度), shape(行列數), size(元素個數)"
   ]
  },
  {
   "cell_type": "code",
   "execution_count": 2,
   "metadata": {},
   "outputs": [
    {
     "name": "stdout",
     "output_type": "stream",
     "text": [
      "2\n",
      "(2, 3)\n",
      "6\n"
     ]
    }
   ],
   "source": [
    "import numpy as np\n",
    "array = np.array([[1, 2, 3], [2, 3, 4]])        # 轉成矩陣\n",
    "print(array.ndim)\n",
    "print(array.shape) #(列, 行)\n",
    "print(array.size)"
   ]
  },
  {
   "cell_type": "code",
   "execution_count": 3,
   "metadata": {},
   "outputs": [
    {
     "data": {
      "text/plain": [
       "<function numpy.empty>"
      ]
     },
     "execution_count": 3,
     "metadata": {},
     "output_type": "execute_result"
    }
   ],
   "source": [
    "np.array([2, 23, 4])  #[2 23 4]\n",
    "np.array([2, 23, 4], dtype = np.int32)\n",
    "np.zeros((3, 4))  #四行三列的零矩陣\n",
    "np.ones((3, 4))   #四行三列的矩陣，全為一\n",
    "np.empty"
   ]
  },
  {
   "cell_type": "markdown",
   "metadata": {},
   "source": [
    "## Pandas"
   ]
  },
  {
   "cell_type": "markdown",
   "metadata": {},
   "source": [
    "### 資料類型 - Series"
   ]
  },
  {
   "cell_type": "code",
   "execution_count": 7,
   "metadata": {},
   "outputs": [
    {
     "data": {
      "text/plain": [
       "Index(['a', 'b', 'c', 'd'], dtype='object')"
      ]
     },
     "execution_count": 7,
     "metadata": {},
     "output_type": "execute_result"
    }
   ],
   "source": [
    "import pandas as pd\n",
    "\n",
    "# 資料類型 - Series是一個類似陣列的物件，裡面可包含陣列的資料\n",
    "# 最簡單的Series格式就是一個一維陣列的資料:\n",
    "my_obj = pd.Series([4, 7, -5, 3])   # 使用.Series()並將數值放到一個變數中。\n",
    "\n",
    "# 若要讀取Series的value我們可以使用.values：\n",
    "my_obj.values\n",
    "\n",
    "# 若要讀取Series的index：\n",
    "# Series的index若沒有自己設定的話它會自動分配！\n",
    "my_obj.index"
   ]
  },
  {
   "cell_type": "code",
   "execution_count": 8,
   "metadata": {},
   "outputs": [
    {
     "data": {
      "text/plain": [
       "Index(['a', 'b', 'c', 'd'], dtype='object')"
      ]
     },
     "execution_count": 8,
     "metadata": {},
     "output_type": "execute_result"
    }
   ],
   "source": [
    "# Index可以不一定是要從0開始也可以是其他的內容，我們可以這樣宣告：\n",
    "my_obj2 = pd.Series([8,9,10,11], index=['a','b','c','d'])\n",
    "my_obj2.index\n",
    "\n",
    "# 所以如果我要取出8這個幸運數字該怎麼做呢？\n",
    "# my_obj2['a']"
   ]
  },
  {
   "cell_type": "code",
   "execution_count": 9,
   "metadata": {},
   "outputs": [
    {
     "data": {
      "text/plain": [
       "name              apple\n",
       "birthday       1996-1-1\n",
       "luckynumber           7\n",
       "dtype: object"
      ]
     },
     "execution_count": 9,
     "metadata": {},
     "output_type": "execute_result"
    }
   ],
   "source": [
    "# Dictinary轉成Series\n",
    "dic_data = {'name':'apple','birthday':'1996-1-1','luckynumber':7 }\n",
    "my_obj3 = pd.Series(dic_data)\n",
    "my_obj3"
   ]
  },
  {
   "cell_type": "markdown",
   "metadata": {},
   "source": [
    "### 資料類型 - DataFrame"
   ]
  },
  {
   "cell_type": "code",
   "execution_count": 10,
   "metadata": {},
   "outputs": [
    {
     "data": {
      "text/html": [
       "<div>\n",
       "<style scoped>\n",
       "    .dataframe tbody tr th:only-of-type {\n",
       "        vertical-align: middle;\n",
       "    }\n",
       "\n",
       "    .dataframe tbody tr th {\n",
       "        vertical-align: top;\n",
       "    }\n",
       "\n",
       "    .dataframe thead th {\n",
       "        text-align: right;\n",
       "    }\n",
       "</style>\n",
       "<table border=\"1\" class=\"dataframe\">\n",
       "  <thead>\n",
       "    <tr style=\"text-align: right;\">\n",
       "      <th></th>\n",
       "      <th>name</th>\n",
       "      <th>year</th>\n",
       "      <th>month</th>\n",
       "      <th>day</th>\n",
       "    </tr>\n",
       "  </thead>\n",
       "  <tbody>\n",
       "    <tr>\n",
       "      <th>0</th>\n",
       "      <td>Bob</td>\n",
       "      <td>1996</td>\n",
       "      <td>8</td>\n",
       "      <td>11</td>\n",
       "    </tr>\n",
       "    <tr>\n",
       "      <th>1</th>\n",
       "      <td>Nancy</td>\n",
       "      <td>1997</td>\n",
       "      <td>8</td>\n",
       "      <td>23</td>\n",
       "    </tr>\n",
       "    <tr>\n",
       "      <th>2</th>\n",
       "      <td>Amy</td>\n",
       "      <td>1997</td>\n",
       "      <td>7</td>\n",
       "      <td>8</td>\n",
       "    </tr>\n",
       "    <tr>\n",
       "      <th>3</th>\n",
       "      <td>Elsa</td>\n",
       "      <td>1996</td>\n",
       "      <td>1</td>\n",
       "      <td>3</td>\n",
       "    </tr>\n",
       "    <tr>\n",
       "      <th>4</th>\n",
       "      <td>Jack</td>\n",
       "      <td>1997</td>\n",
       "      <td>12</td>\n",
       "      <td>11</td>\n",
       "    </tr>\n",
       "  </tbody>\n",
       "</table>\n",
       "</div>"
      ],
      "text/plain": [
       "    name  year  month  day\n",
       "0    Bob  1996      8   11\n",
       "1  Nancy  1997      8   23\n",
       "2    Amy  1997      7    8\n",
       "3   Elsa  1996      1    3\n",
       "4   Jack  1997     12   11"
      ]
     },
     "execution_count": 10,
     "metadata": {},
     "output_type": "execute_result"
    }
   ],
   "source": [
    "# DataFrame就像是我們在使用的excel表格一樣，是一個二維的數據有index和column，可以透過index和column來找到我們要的某一筆資料。\n",
    "data = {'name': ['Bob', 'Nancy','Amy','Elsa','Jack'],\n",
    "        'year': [1996, 1997, 1997, 1996, 1997],\n",
    "        'month': [8, 8, 7, 1, 12],\n",
    "        'day':[11,23,8,3,11]}\n",
    "myframe = pd.DataFrame(data)\n",
    "myframe\n",
    "\n",
    "# DataFrame和Series一樣，若沒有特別定義index的話它會自動的分配。\n",
    "# name、year、month、day就是剛剛提到的columns，左邊的0到4就是index。"
   ]
  },
  {
   "cell_type": "code",
   "execution_count": 11,
   "metadata": {},
   "outputs": [],
   "source": [
    "# 更改columns順序\n",
    "# 讓day在month後面\n",
    "\n",
    "myframe2 = pd.DataFrame(data,columns=['name','year', 'month', 'day'])"
   ]
  },
  {
   "cell_type": "markdown",
   "metadata": {},
   "source": [
    "### Pandas操作資料的函數"
   ]
  },
  {
   "cell_type": "code",
   "execution_count": null,
   "metadata": {},
   "outputs": [],
   "source": [
    "# 檔案讀取\n",
    "df = pd.read_csv('./csv檔案位置')\n",
    "\n",
    "# 使用.head()可以顯示5筆資料（預設是5筆）也可以自訂，只需要在括弧內加上要的數字\n",
    "df.head(3)\n",
    "# 要顯示最後五筆資料則可以使用.tail()，和head()一樣，可以在括號內加上要顯示幾筆資料\n",
    "df.tail()\n",
    "df.info()\n",
    "df.shape #就會顯示(rows,columns)\n",
    "\n",
    "# 選擇一項資料：\n",
    "df['Name']\n",
    "# 若只要選擇某幾筆資料則\n",
    "df['Name'][0:4]\n",
    "\n",
    "# 選擇多項資料：\n",
    "df[['Name','Team']]\n",
    "\n",
    "# 資料新增：\n",
    "df.insert(3,column=\"sport\",value=\"Basketball\")\n",
    "\n",
    "# 新增一個叫sport的column在第三個位置，裡面的值是\"Basketball\""
   ]
  },
  {
   "cell_type": "code",
   "execution_count": null,
   "metadata": {},
   "outputs": [],
   "source": [
    "# 資料刪除：dropna()的函式可以刪除NaN的資料\n",
    "# 記得把它存到一個變數，不然它是不會改變的哦！\n",
    "\n",
    "nba = nba.dropna()\n",
    "\n",
    "# 空白資料填充\n",
    "# 若我們不打算刪除空的資料，我們還有一個方法可以做就是把NaN的資料代換掉。\n",
    "\n",
    "nba = nba.fillna(0)\n",
    "# 使用fillna()函式，在括弧中填入自己想要填入的值，在上面的程式中我們把它換成0。\n",
    "\n",
    "# 資料排序\n",
    "\n",
    "nba.sort_values(\"Name\")\n",
    "在上面的程式中，我想排序Name的資料，只需要在資料後面加上.sort_values()並在括弧內加上要排序的column，如下圖：\n"
   ]
  },
  {
   "cell_type": "markdown",
   "metadata": {},
   "source": [
    "### Pandas資料的取得與篩選"
   ]
  },
  {
   "cell_type": "code",
   "execution_count": 14,
   "metadata": {},
   "outputs": [
    {
     "data": {
      "text/html": [
       "<div>\n",
       "<style scoped>\n",
       "    .dataframe tbody tr th:only-of-type {\n",
       "        vertical-align: middle;\n",
       "    }\n",
       "\n",
       "    .dataframe tbody tr th {\n",
       "        vertical-align: top;\n",
       "    }\n",
       "\n",
       "    .dataframe thead th {\n",
       "        text-align: right;\n",
       "    }\n",
       "</style>\n",
       "<table border=\"1\" class=\"dataframe\">\n",
       "  <thead>\n",
       "    <tr style=\"text-align: right;\">\n",
       "      <th></th>\n",
       "      <th>0</th>\n",
       "      <th>1</th>\n",
       "    </tr>\n",
       "  </thead>\n",
       "  <tbody>\n",
       "    <tr>\n",
       "      <th>a</th>\n",
       "      <td>1.732699</td>\n",
       "      <td>0.608193</td>\n",
       "    </tr>\n",
       "    <tr>\n",
       "      <th>a</th>\n",
       "      <td>-1.549344</td>\n",
       "      <td>0.091534</td>\n",
       "    </tr>\n",
       "    <tr>\n",
       "      <th>b</th>\n",
       "      <td>-0.430493</td>\n",
       "      <td>0.976615</td>\n",
       "    </tr>\n",
       "    <tr>\n",
       "      <th>b</th>\n",
       "      <td>0.028684</td>\n",
       "      <td>0.362079</td>\n",
       "    </tr>\n",
       "  </tbody>\n",
       "</table>\n",
       "</div>"
      ],
      "text/plain": [
       "          0         1\n",
       "a  1.732699  0.608193\n",
       "a -1.549344  0.091534\n",
       "b -0.430493  0.976615\n",
       "b  0.028684  0.362079"
      ]
     },
     "execution_count": 14,
     "metadata": {},
     "output_type": "execute_result"
    }
   ],
   "source": [
    "import pandas as pd\n",
    "import numpy as np\n",
    "\n",
    "seriesObj = pd.Series(range(10),index=['a', 'a', 'b', 'b', 'b','c','c','c','c','c']) # 創建Series\n",
    "df = pd.DataFrame(np.random.randn(4,2),index=['a', 'a', 'b', 'b'])\n",
    "df"
   ]
  },
  {
   "cell_type": "markdown",
   "metadata": {},
   "source": [
    "#### 資料篩選"
   ]
  },
  {
   "cell_type": "markdown",
   "metadata": {},
   "source": [
    "運算子運用\n",
    "https://ithelp.ithome.com.tw/articles/10194003\n",
    "https://ithelp.ithome.com.tw/articles/10194006"
   ]
  }
 ],
 "metadata": {
  "kernelspec": {
   "display_name": "Python 3",
   "language": "python",
   "name": "python3"
  },
  "language_info": {
   "codemirror_mode": {
    "name": "ipython",
    "version": 3
   },
   "file_extension": ".py",
   "mimetype": "text/x-python",
   "name": "python",
   "nbconvert_exporter": "python",
   "pygments_lexer": "ipython3",
   "version": "3.6.8"
  }
 },
 "nbformat": 4,
 "nbformat_minor": 2
}
